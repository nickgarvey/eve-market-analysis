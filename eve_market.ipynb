{
 "cells": [
  {
   "cell_type": "markdown",
   "metadata": {},
   "source": [
    "Swagger codegen is so broken it's amazing\n",
    "\n",
    "```\n",
    "\n",
    "# java 10 doesn't work, use java8 because reflection issues (??)\n",
    "sudo apt install openjdk-8-jdk-headless\n",
    "export JAVA_HOME=/usr/lib/jvm/java-8-openjdk-amd64/\n",
    "export PATH=${JAVA_HOME}/bin:$PATH # not sure if needed\n",
    "\n",
    "# build it\n",
    "git clone https://github.com/swagger-api/swagger-codegen\n",
    "cd swagger-codegen\n",
    "mvn clean package\n",
    "\n",
    "# generate client\n",
    "cd ../eve_market_analysis\n",
    "java -jar ../swagger-codegen/modules/swagger-codegen-cli/target/swagger-codegen-cli.jar \\\n",
    "    generate -i https://esi.evetech.net/latest/swagger.json -l python -o python-client\n",
    "\n",
    "# fix yet another bug\n",
    "find python-client/ -name \\*.py | xargs sed -i 's/\\<async:/async_:/g'\n",
    "find python-client/ -name \\*.py | xargs sed -i 's/\\<async=/async_=/g'\n",
    "\n",
    "# conda install\n",
    "source activate eve\n",
    "cd python-client\n",
    "python3 setup.py install\n",
    "```"
   ]
  },
  {
   "cell_type": "code",
   "execution_count": 1,
   "metadata": {},
   "outputs": [
    {
     "name": "stdout",
     "output_type": "stream",
     "text": [
      "882723\n"
     ]
    }
   ],
   "source": [
    "import aiohttp\n",
    "import asyncio\n",
    "\n",
    "async def fetch(session, url):\n",
    "    async with session.get(url) as response:\n",
    "        return await response.text()\n",
    "\n",
    "async def main():\n",
    "    async with aiohttp.ClientSession() as session:\n",
    "        html = await fetch(session, 'https://esi.evetech.net/v1/markets/prices/')\n",
    "        print(len(html))\n",
    "\n",
    "asyncio.run(main())"
   ]
  },
  {
   "cell_type": "code",
   "execution_count": 2,
   "metadata": {},
   "outputs": [
    {
     "ename": "SyntaxError",
     "evalue": "invalid syntax (alliance_api.py, line 129)",
     "output_type": "error",
     "traceback": [
      "Traceback \u001b[0;36m(most recent call last)\u001b[0m:\n",
      "  File \u001b[1;32m\"/home/ngarvey/anaconda3/envs/eve/lib/python3.7/site-packages/IPython/core/interactiveshell.py\"\u001b[0m, line \u001b[1;32m2961\u001b[0m, in \u001b[1;35mrun_code\u001b[0m\n    exec(code_obj, self.user_global_ns, self.user_ns)\n",
      "  File \u001b[1;32m\"<ipython-input-2-6536d216a3f9>\"\u001b[0m, line \u001b[1;32m2\u001b[0m, in \u001b[1;35m<module>\u001b[0m\n    import swagger_client\n",
      "  File \u001b[1;32m\"<frozen importlib._bootstrap>\"\u001b[0m, line \u001b[1;32m983\u001b[0m, in \u001b[1;35m_find_and_load\u001b[0m\n",
      "  File \u001b[1;32m\"<frozen importlib._bootstrap>\"\u001b[0m, line \u001b[1;32m967\u001b[0m, in \u001b[1;35m_find_and_load_unlocked\u001b[0m\n",
      "  File \u001b[1;32m\"<frozen importlib._bootstrap>\"\u001b[0m, line \u001b[1;32m668\u001b[0m, in \u001b[1;35m_load_unlocked\u001b[0m\n",
      "  File \u001b[1;32m\"<frozen importlib._bootstrap>\"\u001b[0m, line \u001b[1;32m638\u001b[0m, in \u001b[1;35m_load_backward_compatible\u001b[0m\n",
      "  File \u001b[1;32m\"/home/ngarvey/anaconda3/envs/eve/lib/python3.7/site-packages/swagger_client-1.0.0-py3.7.egg/swagger_client/__init__.py\"\u001b[0m, line \u001b[1;32m19\u001b[0m, in \u001b[1;35m<module>\u001b[0m\n    from swagger_client.api.alliance_api import AllianceApi\n",
      "  File \u001b[1;32m\"<frozen importlib._bootstrap>\"\u001b[0m, line \u001b[1;32m983\u001b[0m, in \u001b[1;35m_find_and_load\u001b[0m\n",
      "  File \u001b[1;32m\"<frozen importlib._bootstrap>\"\u001b[0m, line \u001b[1;32m967\u001b[0m, in \u001b[1;35m_find_and_load_unlocked\u001b[0m\n",
      "  File \u001b[1;32m\"<frozen importlib._bootstrap>\"\u001b[0m, line \u001b[1;32m668\u001b[0m, in \u001b[1;35m_load_unlocked\u001b[0m\n",
      "  File \u001b[1;32m\"<frozen importlib._bootstrap>\"\u001b[0m, line \u001b[1;32m638\u001b[0m, in \u001b[1;35m_load_backward_compatible\u001b[0m\n",
      "  File \u001b[1;32m\"/home/ngarvey/anaconda3/envs/eve/lib/python3.7/site-packages/swagger_client-1.0.0-py3.7.egg/swagger_client/api/__init__.py\"\u001b[0m, line \u001b[1;32m6\u001b[0m, in \u001b[1;35m<module>\u001b[0m\n    from swagger_client.api.alliance_api import AllianceApi\n",
      "  File \u001b[1;32m\"<frozen importlib._bootstrap>\"\u001b[0m, line \u001b[1;32m983\u001b[0m, in \u001b[1;35m_find_and_load\u001b[0m\n",
      "  File \u001b[1;32m\"<frozen importlib._bootstrap>\"\u001b[0m, line \u001b[1;32m963\u001b[0m, in \u001b[1;35m_find_and_load_unlocked\u001b[0m\n",
      "  File \u001b[1;32m\"<frozen importlib._bootstrap>\"\u001b[0m, line \u001b[1;32m906\u001b[0m, in \u001b[1;35m_find_spec\u001b[0m\n",
      "  File \u001b[1;32m\"<frozen importlib._bootstrap_external>\"\u001b[0m, line \u001b[1;32m1280\u001b[0m, in \u001b[1;35mfind_spec\u001b[0m\n",
      "  File \u001b[1;32m\"<frozen importlib._bootstrap_external>\"\u001b[0m, line \u001b[1;32m1254\u001b[0m, in \u001b[1;35m_get_spec\u001b[0m\n",
      "  File \u001b[1;32m\"<frozen importlib._bootstrap_external>\"\u001b[0m, line \u001b[1;32m1235\u001b[0m, in \u001b[1;35m_legacy_get_spec\u001b[0m\n",
      "  File \u001b[1;32m\"<frozen importlib._bootstrap>\"\u001b[0m, line \u001b[1;32m441\u001b[0m, in \u001b[1;35mspec_from_loader\u001b[0m\n",
      "\u001b[0;36m  File \u001b[0;32m\"<frozen importlib._bootstrap_external>\"\u001b[0;36m, line \u001b[0;32m594\u001b[0;36m, in \u001b[0;35mspec_from_file_location\u001b[0;36m\u001b[0m\n",
      "\u001b[0;36m  File \u001b[0;32m\"/home/ngarvey/anaconda3/envs/eve/lib/python3.7/site-packages/swagger_client-1.0.0-py3.7.egg/swagger_client/api/alliance_api.py\"\u001b[0;36m, line \u001b[0;32m129\u001b[0m\n\u001b[0;31m    async=params.get('async'),\u001b[0m\n\u001b[0m        ^\u001b[0m\n\u001b[0;31mSyntaxError\u001b[0m\u001b[0;31m:\u001b[0m invalid syntax\n"
     ]
    }
   ],
   "source": [
    "# view total orders by item\n",
    "import swagger_client"
   ]
  },
  {
   "cell_type": "code",
   "execution_count": null,
   "metadata": {},
   "outputs": [],
   "source": []
  }
 ],
 "metadata": {
  "kernelspec": {
   "display_name": "Python [conda env:eve]",
   "language": "python",
   "name": "conda-env-eve-py"
  },
  "language_info": {
   "codemirror_mode": {
    "name": "ipython",
    "version": 3
   },
   "file_extension": ".py",
   "mimetype": "text/x-python",
   "name": "python",
   "nbconvert_exporter": "python",
   "pygments_lexer": "ipython3",
   "version": "3.7.0"
  }
 },
 "nbformat": 4,
 "nbformat_minor": 2
}
