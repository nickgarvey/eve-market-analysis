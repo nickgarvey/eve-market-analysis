{
 "cells": [
  {
   "cell_type": "markdown",
   "metadata": {},
   "source": [
    "Swagger codegen is so broken it's amazing\n",
    "\n",
    "```\n",
    "\n",
    "# java 10 doesn't work, use java8 because reflection issues (??)\n",
    "sudo apt install openjdk-8-jdk-headless\n",
    "export JAVA_HOME=/usr/lib/jvm/java-8-openjdk-amd64/\n",
    "export PATH=${JAVA_HOME}/bin:$PATH # not sure if needed\n",
    "\n",
    "# build it\n",
    "git clone https://github.com/swagger-api/swagger-codegen\n",
    "cd swagger-codegen\n",
    "mvn clean package\n",
    "\n",
    "# generate client\n",
    "cd ../eve_market_analysis\n",
    "java -jar ../swagger-codegen/modules/swagger-codegen-cli/target/swagger-codegen-cli.jar \\\n",
    "    generate -i https://esi.evetech.net/latest/swagger.json -l python --library asyncio -o python-client\n",
    "\n",
    "# fix yet another bug\n",
    "find python-client/ -name \\*.py | xargs sed -i 's/\\<async:/async_:/g'\n",
    "find python-client/ -name \\*.py | xargs sed -i 's/\\<async=/async_=/g'\n",
    "\n",
    "# conda install\n",
    "source activate eve\n",
    "cd python-client\n",
    "python3 setup.py install\n",
    "```"
   ]
  },
  {
   "cell_type": "code",
   "execution_count": 1,
   "metadata": {},
   "outputs": [],
   "source": [
    "%%capture\n",
    "\"\"\" only run this once\n",
    "\n",
    "from notebook.services.config import ConfigManager\n",
    "c = ConfigManager()\n",
    "c.update('notebook', {\"CodeCell\": {\"cm_config\": {\"autoCloseBrackets\": False}}})\n",
    "\"\"\""
   ]
  },
  {
   "cell_type": "code",
   "execution_count": 2,
   "metadata": {},
   "outputs": [],
   "source": [
    "import swagger_client as eve\n",
    "import asyncio"
   ]
  },
  {
   "cell_type": "code",
   "execution_count": 3,
   "metadata": {},
   "outputs": [],
   "source": [
    "class ESIClient:\n",
    "    def __init__(self, cls):\n",
    "        self.cls = cls\n",
    "    \n",
    "    async def __aenter__(self):\n",
    "        self.client = self.cls(eve.ApiClient())\n",
    "        # not sure if this actually works\n",
    "        self.client.api_client.user_agent = \"nickgarvey Eve Dev\"\n",
    "        return self.client\n",
    "\n",
    "    async def __aexit__(self, exc_type, exc, tb):\n",
    "        # generated code don't close the pool_manager, so do it ourselves\n",
    "        await self.client.api_client.rest_client.pool_manager.close()\n",
    "\n",
    "\n",
    "async def gen_region(universe_client, region_id):\n",
    "    return await universe_client.get_universe_regions_region_id(region_id)\n",
    "\n",
    "\n",
    "async def gen_all_regions():\n",
    "    async with ESIClient(eve.UniverseApi) as universe_client:\n",
    "        region_ids = await universe_client.get_universe_regions()\n",
    "        regions = await asyncio.gather(*[gen_region(universe_client, i) for i in region_ids[:3]])\n",
    "    return regions\n",
    "\n",
    "\n",
    "loop = asyncio.new_event_loop()\n",
    "regions = loop.run_until_complete(gen_all_regions())\n",
    "regions = {r.region_id: r for r in regions}"
   ]
  },
  {
   "cell_type": "code",
   "execution_count": 4,
   "metadata": {},
   "outputs": [
    {
     "name": "stdout",
     "output_type": "stream",
     "text": [
      "Help on method get_markets_region_id_history in module swagger_client.api.market_api:\n",
      "\n",
      "get_markets_region_id_history(region_id, type_id, **kwargs) method of swagger_client.api.market_api.MarketApi instance\n",
      "    List historical market statistics in a region  # noqa: E501\n",
      "    \n",
      "    Return a list of historical market statistics for the specified type in a region  --- Alternate route: `/dev/markets/{region_id}/history/`  Alternate route: `/legacy/markets/{region_id}/history/`  Alternate route: `/v1/markets/{region_id}/history/`  --- This route expires daily at 11:05  # noqa: E501\n",
      "    This method makes a synchronous HTTP request by default. To make an\n",
      "    asynchronous HTTP request, please pass async_=True\n",
      "    >>> thread = api.get_markets_region_id_history(region_id, type_id, async_=True)\n",
      "    >>> result = thread.get()\n",
      "    \n",
      "    :param async bool\n",
      "    :param int region_id: Return statistics in this region (required)\n",
      "    :param int type_id: Return statistics for this type (required)\n",
      "    :param str datasource: The server name you would like data from\n",
      "    :param str if_none_match: ETag from a previous request. A 304 will be returned if this matches the current ETag\n",
      "    :return: list[object]\n",
      "             If the method is called asynchronously,\n",
      "             returns the request thread.\n",
      "\n",
      "None\n"
     ]
    }
   ],
   "source": [
    "async def gen_all_market_data(regions):\n",
    "    async with ESIClient(eve.MarketApi) as market_client:\n",
    "        print(help(market_client.get_markets_region_id_history))\n",
    "        \n",
    "loop = asyncio.new_event_loop()\n",
    "markets = loop.run_until_complete(gen_all_market_data(dict(list(regions.items())[:3])))\n",
    "import pandas"
   ]
  }
 ],
 "metadata": {
  "kernelspec": {
   "display_name": "Python [conda env:eve]",
   "language": "python",
   "name": "conda-env-eve-py"
  },
  "language_info": {
   "codemirror_mode": {
    "name": "ipython",
    "version": 3
   },
   "file_extension": ".py",
   "mimetype": "text/x-python",
   "name": "python",
   "nbconvert_exporter": "python",
   "pygments_lexer": "ipython3",
   "version": "3.7.0"
  }
 },
 "nbformat": 4,
 "nbformat_minor": 2
}
